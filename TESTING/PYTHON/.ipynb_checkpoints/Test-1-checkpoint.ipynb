{
 "cells": [
  {
   "cell_type": "code",
   "execution_count": 4,
   "id": "8399cfcb-bb50-4750-a262-e4a6a93764e6",
   "metadata": {},
   "outputs": [],
   "source": [
    "\n",
    "import librosa\n",
    "import numpy as np\n",
    "import pandas as pd\n",
    "import matplotlib.pyplot as plt\n",
    "import librosa.display\n",
    "import keras\n",
    "import datetime\n",
    "import seaborn as sns\n",
    "from sklearn.preprocessing import LabelEncoder \n",
    "from sklearn.model_selection import train_test_split\n",
    "from sklearn.metrics import confusion_matrix\n",
    "from sklearn.metrics import classification_report\n",
    "from sklearn.decomposition import PCA\n",
    "from os import walk\n"
   ]
  },
  {
   "cell_type": "code",
   "execution_count": 5,
   "id": "358ca9ee-ecfc-4d74-8ba4-9a37476fdcce",
   "metadata": {},
   "outputs": [],
   "source": [
    "\n",
    "zero_path = r\"C:\\Users\\oonak\\Desktop\\202401\\TESTING\\PYTHON\\DATA\\zero.wav\"\n",
    "one_path = r\"C:\\Users\\oonak\\Desktop\\202401\\TESTING\\PYTHON\\DATA\\one.wav\"\n",
    "two_path = r\"C:\\Users\\oonak\\Desktop\\202401\\TESTING\\PYTHON\\DATA\\two.wav\"\n",
    "three_path = r\"C:\\Users\\oonak\\Desktop\\202401\\TESTING\\PYTHON\\DATA\\three.wav\"\n"
   ]
  },
  {
   "cell_type": "code",
   "execution_count": null,
   "id": "8a5d8d9e-65bf-4003-ab23-5cb8cc7dac99",
   "metadata": {},
   "outputs": [],
   "source": [
    "\n",
    "zero_signal, zero_sr = librosa.load(zero_path, sr=16000)\n",
    "one_signal, one_sr = librosa.load(one_path, sr=16000)\n",
    "two_signal, two_sr = librosa.load(two_path, sr=16000)\n",
    "three_signal, three_sr = librosa.load(three_path, sr=16000)\n"
   ]
  },
  {
   "cell_type": "code",
   "execution_count": null,
   "id": "4b6c1545-e951-4228-83bb-692e4e197749",
   "metadata": {},
   "outputs": [],
   "source": [
    "\n",
    "zero_dur_time = librosa.get_duration(y=zero_signal,sr=zero_sr)\n",
    "zero_time_sec = round(zero_dur_time)\n",
    "S = librosa.feature.melspectrogram(y=zero_signal, sr=zero_sr, n_mels=20, fmax=8000)\n",
    "fig, ax = plt.subplots()\n",
    "zero_S_dB = librosa.power_to_db(S, ref=np.max)\n",
    "img = librosa.display.specshow(zero_S_dB, x_axis='time',y_axis='mel', sr=zero_sr,fmax=8000, ax=ax)\n",
    "fig.colorbar(img, ax=ax, format='%+2.0f dB')\n",
    "ax.set(title='Mel-frequency spectrogram')\n"
   ]
  },
  {
   "cell_type": "code",
   "execution_count": null,
   "id": "541a4614-4618-4448-a74d-839c44837e78",
   "metadata": {},
   "outputs": [],
   "source": [
    "\n",
    "one_dur_time = librosa.get_duration(y=one_signal,sr=one_sr)\n",
    "one_time_sec = round(one_dur_time)\n",
    "S = librosa.feature.melspectrogram(y=one_signal, sr=one_sr, n_mels=20, fmax=8000)\n",
    "fig, ax = plt.subplots()\n",
    "one_S_dB = librosa.power_to_db(S, ref=np.max)\n",
    "img = librosa.display.specshow(one_S_dB, x_axis='time',y_axis='mel', sr=one_sr,fmax=8000, ax=ax)\n",
    "fig.colorbar(img, ax=ax, format='%+2.0f dB')\n",
    "ax.set(title='Mel-frequency spectrogram')\n"
   ]
  },
  {
   "cell_type": "code",
   "execution_count": null,
   "id": "b74aa764-5f7f-48cb-9f43-f4979eecbb5c",
   "metadata": {},
   "outputs": [],
   "source": [
    "\n",
    "two_dur_time = librosa.get_duration(y=two_signal,sr=two_sr)\n",
    "two_time_sec = round(two_dur_time)\n",
    "S = librosa.feature.melspectrogram(y=two_signal, sr=two_sr, n_mels=20, fmax=8000)\n",
    "fig, ax = plt.subplots()\n",
    "two_S_dB = librosa.power_to_db(S, ref=np.max)\n",
    "img = librosa.display.specshow(two_S_dB, x_axis='time',y_axis='mel', sr=two_sr,fmax=8000, ax=ax)\n",
    "fig.colorbar(img, ax=ax, format='%+2.0f dB')\n",
    "ax.set(title='Mel-frequency spectrogram')\n"
   ]
  },
  {
   "cell_type": "code",
   "execution_count": null,
   "id": "099a4e07-1df3-4b27-b15d-9fe240b6c1ea",
   "metadata": {},
   "outputs": [],
   "source": [
    "\n",
    "three_dur_time = librosa.get_duration(y=three_signal,sr=three_sr)\n",
    "three_time_sec = round(three_dur_time)\n",
    "S = librosa.feature.melspectrogram(y=three_signal, sr=three_sr, n_mels=20, fmax=8000)\n",
    "fig, ax = plt.subplots()\n",
    "three_S_dB = librosa.power_to_db(S, ref=np.max)\n",
    "img = librosa.display.specshow(three_S_dB, x_axis='time',y_axis='mel', sr=three_sr,fmax=8000, ax=ax)\n",
    "fig.colorbar(img, ax=ax, format='%+2.0f dB')\n",
    "ax.set(title='Mel-frequency spectrogram')\n"
   ]
  },
  {
   "cell_type": "code",
   "execution_count": null,
   "id": "fc72e56e-fc2b-418c-a3af-a63a42719e87",
   "metadata": {},
   "outputs": [],
   "source": [
    "\n",
    "zero_audio_data = pd.DataFrame(zero_S_dB)\n",
    "zero_audio_data = zero_audio_data.T\n",
    "zero_audio_data.tail()\n"
   ]
  },
  {
   "cell_type": "code",
   "execution_count": null,
   "id": "0e354fc8-6563-4b6f-9c9a-a80aea9f69c2",
   "metadata": {},
   "outputs": [],
   "source": [
    "\n",
    "pca = PCA(n_components=4)\n",
    "pca.fit(zero_audio_data)\n"
   ]
  },
  {
   "cell_type": "code",
   "execution_count": null,
   "id": "54e07e90-5b7f-47d4-844d-bc86537d85e1",
   "metadata": {},
   "outputs": [],
   "source": [
    "\n",
    "zero_pca_data = pd.DataFrame(zero_pca.transform(zero_audio_data))\n"
   ]
  },
  {
   "cell_type": "code",
   "execution_count": null,
   "id": "356fde29-c91b-4bc6-a687-08a658f5c1ad",
   "metadata": {},
   "outputs": [],
   "source": [
    "zero_pca_data"
   ]
  },
  {
   "cell_type": "code",
   "execution_count": null,
   "id": "560e6412-1791-4058-8553-cbfe79623c3b",
   "metadata": {},
   "outputs": [],
   "source": [
    "\n",
    "one_audio_data = pd.DataFrame(one_S_dB)\n",
    "one_audio_data = one_audio_data.T\n",
    "one_audio_data.tail()\n"
   ]
  },
  {
   "cell_type": "code",
   "execution_count": null,
   "id": "485c80f9-5207-46d1-9fad-830da7aaf1ef",
   "metadata": {},
   "outputs": [],
   "source": [
    "\n",
    "one_pca_data = pd.DataFrame(pca.transform(one_audio_data))\n"
   ]
  },
  {
   "cell_type": "code",
   "execution_count": null,
   "id": "eca38a3f-ba8f-4d10-ab7f-258bd1672193",
   "metadata": {},
   "outputs": [],
   "source": [
    "one_pca_data"
   ]
  },
  {
   "cell_type": "code",
   "execution_count": null,
   "id": "1aae19b2-5d98-4ecc-ae80-eac551773ecf",
   "metadata": {},
   "outputs": [],
   "source": [
    "\n",
    "two_audio_data = pd.DataFrame(two_S_dB)\n",
    "two_audio_data = two_audio_data.T\n",
    "two_audio_data.tail()\n"
   ]
  },
  {
   "cell_type": "code",
   "execution_count": null,
   "id": "633e72d2-4688-4bb7-b879-4baff4d3bdf9",
   "metadata": {},
   "outputs": [],
   "source": [
    "\n",
    "two_pca_data = pd.DataFrame(pca.transform(two_audio_data))\n"
   ]
  },
  {
   "cell_type": "code",
   "execution_count": null,
   "id": "993923eb-5df9-4bb2-83a9-e09e121cafaf",
   "metadata": {},
   "outputs": [],
   "source": [
    "two_pca_data"
   ]
  },
  {
   "cell_type": "code",
   "execution_count": null,
   "id": "6d810bfc-71b8-4501-a171-06ca5d46f30f",
   "metadata": {},
   "outputs": [],
   "source": [
    "\n",
    "three_audio_data = pd.DataFrame(three_S_dB)\n",
    "three_audio_data = three_audio_data.T\n",
    "three_audio_data.tail()\n"
   ]
  },
  {
   "cell_type": "code",
   "execution_count": null,
   "id": "e6708aef-464e-45e3-bb0e-6ce498ff40f6",
   "metadata": {},
   "outputs": [],
   "source": [
    "\n",
    "three_pca_data = pd.DataFrame(pca.transform(three_audio_data))\n"
   ]
  },
  {
   "cell_type": "code",
   "execution_count": null,
   "id": "0880f318-5e42-4bba-bce5-b017766ac9a3",
   "metadata": {},
   "outputs": [],
   "source": [
    "three_pca_data"
   ]
  },
  {
   "cell_type": "code",
   "execution_count": null,
   "id": "c3f11a05-d3f5-4cf2-afbd-c064870cb3c2",
   "metadata": {},
   "outputs": [],
   "source": [
    "\n",
    "lables = np.zeros((zero_pca_data.shape[0],1))\n",
    "zero = np.hstack((zero_pca_data, lables))\n"
   ]
  },
  {
   "cell_type": "code",
   "execution_count": null,
   "id": "65d09035-c456-4f1c-a1ef-12aca2ebf807",
   "metadata": {},
   "outputs": [],
   "source": [
    "\n",
    "lables = np.ones((one_pca_data.shape[0],1))\n",
    "one = np.hstack((one_pca_data, lables))\n"
   ]
  },
  {
   "cell_type": "code",
   "execution_count": null,
   "id": "328059c5-8cd9-451e-842a-fe9883e7e212",
   "metadata": {},
   "outputs": [],
   "source": [
    "\n",
    "lables = np.ones((two_pca_data.shape[0],1))*2\n",
    "two = np.hstack((two_pca_data, lables))\n"
   ]
  },
  {
   "cell_type": "code",
   "execution_count": null,
   "id": "e8ef42b6-f909-4fc4-92ea-de04b9771881",
   "metadata": {},
   "outputs": [],
   "source": [
    "\n",
    "lables = np.ones((three_pca_data.shape[0],1))*3\n",
    "three = np.hstack((three_pca_data, lables))\n"
   ]
  },
  {
   "cell_type": "code",
   "execution_count": null,
   "id": "ccb188ae-ab04-4e0d-a7f2-01b2d0ae40b9",
   "metadata": {},
   "outputs": [],
   "source": [
    "\n",
    "data = np.vstack((zero, one, two, three))\n"
   ]
  },
  {
   "cell_type": "code",
   "execution_count": null,
   "id": "bbdf3895-4e14-43a2-8181-ce22fc9c0623",
   "metadata": {},
   "outputs": [],
   "source": [
    "\n",
    "data = pd.DataFrame(data)\n",
    "data.columns = ['0', '1', '2', '3', 'Y']\n"
   ]
  },
  {
   "cell_type": "code",
   "execution_count": null,
   "id": "e77589ca-d096-4850-9f86-15f069410138",
   "metadata": {},
   "outputs": [],
   "source": [
    "data"
   ]
  },
  {
   "cell_type": "code",
   "execution_count": null,
   "id": "0e3e1b88-7873-4181-95f0-a4bf0085b404",
   "metadata": {},
   "outputs": [],
   "source": [
    "sns.pairplot(data,hue='Y',plot_kws={'s':1},palette='plasma')"
   ]
  },
  {
   "cell_type": "code",
   "execution_count": null,
   "id": "043c3dd1-fc85-4551-82b9-a7e10ec71755",
   "metadata": {},
   "outputs": [],
   "source": [
    "X = data.iloc[:,:-1]\n",
    "y = data.iloc[:,-1:]"
   ]
  },
  {
   "cell_type": "code",
   "execution_count": null,
   "id": "5a80ec38-39ac-436f-aa0f-2528fb873f43",
   "metadata": {},
   "outputs": [],
   "source": [
    "X"
   ]
  },
  {
   "cell_type": "code",
   "execution_count": null,
   "id": "e057819a-f231-4849-856a-9733a4a46c3a",
   "metadata": {},
   "outputs": [],
   "source": [
    "y"
   ]
  },
  {
   "cell_type": "code",
   "execution_count": null,
   "id": "a8886047-1483-4891-9f06-c41af3a5ea16",
   "metadata": {},
   "outputs": [],
   "source": [
    "\n",
    "X_train, X_test, y_train, y_test = train_test_split(X, y, test_size=0.2, random_state=42)\n"
   ]
  },
  {
   "cell_type": "code",
   "execution_count": null,
   "id": "e215fc9b-e53f-4084-806a-6f42c6245607",
   "metadata": {},
   "outputs": [],
   "source": [
    "\n",
    "x_train = np.array(X_train)\n",
    "x_test = np.array(X_test)\n",
    "y_train = np.array(y_train)\n",
    "y_test = np.array(y_test)\n"
   ]
  },
  {
   "cell_type": "code",
   "execution_count": null,
   "id": "482402b5-06cd-487e-ad0a-a358015311ff",
   "metadata": {},
   "outputs": [],
   "source": [
    "\n",
    "x_train = x_train.reshape((x_train.shape[0], x_train.shape[1], 1))\n",
    "x_test = x_test.reshape((x_test.shape[0], x_test.shape[1], 1))\n"
   ]
  },
  {
   "cell_type": "code",
   "execution_count": null,
   "id": "7c7e166b-edc6-4bc6-9a63-7ddc4fe691c7",
   "metadata": {},
   "outputs": [],
   "source": [
    "\n",
    "num_classes = len(np.unique(y_train))\n"
   ]
  },
  {
   "cell_type": "code",
   "execution_count": null,
   "id": "17adb032-b14b-4191-9e1d-32f9402b6c6b",
   "metadata": {},
   "outputs": [],
   "source": [
    "\n",
    "idx = np.random.permutation(len(x_train))\n",
    "x_train = x_train[idx]\n",
    "y_train = y_train[idx]\n"
   ]
  },
  {
   "cell_type": "code",
   "execution_count": null,
   "id": "19f165a0-8dee-4170-93bf-05e30fe533a4",
   "metadata": {},
   "outputs": [],
   "source": [
    "\n",
    "def make_model(input_shape):\n",
    "    input_layer = keras.layers.Input(input_shape)\n",
    "\n",
    "    conv1 = keras.layers.Conv1D(filters=64, kernel_size=3, padding=\"same\")(input_layer)\n",
    "    conv1 = keras.layers.BatchNormalization()(conv1)\n",
    "    conv1 = keras.layers.ReLU()(conv1)\n",
    "\n",
    "    conv2 = keras.layers.Conv1D(filters=64, kernel_size=3, padding=\"same\")(conv1)\n",
    "    conv2 = keras.layers.BatchNormalization()(conv2)\n",
    "    conv2 = keras.layers.ReLU()(conv2)\n",
    "\n",
    "    conv3 = keras.layers.Conv1D(filters=64, kernel_size=3, padding=\"same\")(conv2)\n",
    "    conv3 = keras.layers.BatchNormalization()(conv3)\n",
    "    conv3 = keras.layers.ReLU()(conv3)\n",
    "\n",
    "    gap = keras.layers.GlobalAveragePooling1D()(conv3)\n",
    "\n",
    "    output_layer = keras.layers.Dense(num_classes, activation=\"softmax\")(gap)\n",
    "\n",
    "    return keras.models.Model(inputs=input_layer, outputs=output_layer)\n",
    "\n",
    "\n",
    "model = make_model(input_shape=x_train.shape[1:])\n"
   ]
  },
  {
   "cell_type": "code",
   "execution_count": null,
   "id": "b07806fc-0189-4c23-bb9d-143e5aefd9ed",
   "metadata": {},
   "outputs": [],
   "source": [
    "\n",
    "epochs = 30\n",
    "batch_size = 50\n",
    "\n",
    "callbacks = [\n",
    "    keras.callbacks.ModelCheckpoint(\n",
    "        \"best_model.h5.keras\", save_best_only=True, monitor=\"val_loss\"\n",
    "    ),\n",
    "    keras.callbacks.ReduceLROnPlateau(\n",
    "        monitor=\"val_loss\", factor=0.5, patience=20, min_lr=0.0001\n",
    "    ),\n",
    "    keras.callbacks.EarlyStopping(monitor=\"val_loss\", patience=50, verbose=1),\n",
    "]\n",
    "\n",
    "model.compile(\n",
    "    optimizer=\"adam\",\n",
    "    loss=\"sparse_categorical_crossentropy\",\n",
    "    metrics=[\"sparse_categorical_accuracy\"],\n",
    ")\n",
    "\n",
    "history = model.fit(\n",
    "    x_train,\n",
    "    y_train,\n",
    "    batch_size=batch_size,\n",
    "    epochs=epochs,\n",
    "    callbacks=callbacks,\n",
    "    validation_split=0.2,\n",
    "    verbose=1,\n",
    ")\n"
   ]
  },
  {
   "cell_type": "code",
   "execution_count": null,
   "id": "e82fd612-33b6-43fe-90c2-84ffb844bd8a",
   "metadata": {},
   "outputs": [],
   "source": [
    "\n",
    "test_loss, test_acc = model.evaluate(x_test, y_test)\n",
    "\n",
    "print(\"Test accuracy\", test_acc)\n",
    "print(\"Test loss\", test_loss)\n"
   ]
  },
  {
   "cell_type": "code",
   "execution_count": null,
   "id": "fdc97aa3-9952-472c-afeb-faca3ba8625e",
   "metadata": {},
   "outputs": [],
   "source": []
  }
 ],
 "metadata": {
  "kernelspec": {
   "display_name": "Python 3 (ipykernel)",
   "language": "python",
   "name": "python3"
  },
  "language_info": {
   "codemirror_mode": {
    "name": "ipython",
    "version": 3
   },
   "file_extension": ".py",
   "mimetype": "text/x-python",
   "name": "python",
   "nbconvert_exporter": "python",
   "pygments_lexer": "ipython3",
   "version": "3.9.18"
  }
 },
 "nbformat": 4,
 "nbformat_minor": 5
}
